{
 "cells": [
  {
   "cell_type": "code",
   "execution_count": null,
   "id": "455d5785",
   "metadata": {},
   "outputs": [],
   "source": [
    "from pathlib import Path\n",
    "\n",
    "pathlist = Path(FitFolder).rglob('*.txt')\n",
    "for path in pathlist:\n",
    "    \n",
    "     # because path is object not string\n",
    "    path_in_str = str(path)\n",
    "    #print(path_in_str)\n",
    "    #dircontent = [pathss for pathss in path.glob('*.txt') if 'FONLL' not in path.stem]\n",
    "    #print(dircontent)\n",
    "    #print(str(path))\n",
    "#dircontent = [pathstr for pathstr in pathlist.parent if 'FONLL-C-NNLOwithoutDIjet' not  in path.stem]\n",
    "#print(dircontent)"
   ]
  },
  {
   "cell_type": "code",
   "execution_count": null,
   "id": "0b833b1f",
   "metadata": {},
   "outputs": [],
   "source": [
    "from pathlib import Path\n",
    "\n",
    "paths = [path for path in Path(FitFolder).resolve().glob(\"**/*Print*.txt\") if 'Dijet' not in path.stem]\n",
    "#leaving out dijet data, keeping only DDIS\n",
    "print(path.stem)"
   ]
  },
  {
   "cell_type": "code",
   "execution_count": null,
   "id": "a2af2855",
   "metadata": {},
   "outputs": [],
   "source": [
    "print(str(re.search('_(.*)_Data', str(path.stem)).group(1)))\n",
    "print(path.stem)"
   ]
  }
 ],
 "metadata": {
  "kernelspec": {
   "display_name": "Python 3 (ipykernel)",
   "language": "python",
   "name": "python3"
  },
  "language_info": {
   "codemirror_mode": {
    "name": "ipython",
    "version": 3
   },
   "file_extension": ".py",
   "mimetype": "text/x-python",
   "name": "python",
   "nbconvert_exporter": "python",
   "pygments_lexer": "ipython3",
   "version": "3.8.10"
  }
 },
 "nbformat": 4,
 "nbformat_minor": 5
}
