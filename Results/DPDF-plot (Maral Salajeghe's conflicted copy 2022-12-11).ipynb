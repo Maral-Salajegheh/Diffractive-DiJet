{
 "cells": [
  {
   "cell_type": "code",
   "execution_count": 12,
   "id": "ca0f3a1c",
   "metadata": {
    "scrolled": true
   },
   "outputs": [
    {
     "data": {
      "text/html": [
       "<style>.container { width:100% !important; }</style>"
      ],
      "text/plain": [
       "<IPython.core.display.HTML object>"
      ]
     },
     "metadata": {},
     "output_type": "display_data"
    }
   ],
   "source": [
    "from IPython.display import display, HTML\n",
    "display(HTML(\"<style>.container { width:100% !important; }</style>\"))"
   ]
  },
  {
   "cell_type": "code",
   "execution_count": 14,
   "id": "5d67dd1b",
   "metadata": {
    "scrolled": true
   },
   "outputs": [],
   "source": [
    " %matplotlib inline"
   ]
  },
  {
   "cell_type": "code",
   "execution_count": 15,
   "id": "ad327bda",
   "metadata": {
    "scrolled": true
   },
   "outputs": [],
   "source": [
    "import matplotlib.pyplot as plt\n",
    "import numpy as np\n",
    "import pandas as pd\n",
    "import MatplotlibSettings\n",
    "import ROOT"
   ]
  },
  {
   "cell_type": "code",
   "execution_count": 16,
   "id": "7eb985cd",
   "metadata": {
    "scrolled": true
   },
   "outputs": [],
   "source": [
    "modelfolder=['NLO-No-dijet','NNLO-No-dijet']"
   ]
  },
  {
   "cell_type": "code",
   "execution_count": 17,
   "id": "25925c87",
   "metadata": {
    "scrolled": true
   },
   "outputs": [],
   "source": [
    "Q2=20\n",
    "f1 = ROOT.TFile(modelfolder[0]+\"/out.root\",\"READ\")\n",
    "f2 = ROOT.TFile(modelfolder[1]+\"/out.root\",\"READ\")\n",
    "#f2.ls()\n",
    "address= \"SaveDPDFTGraph/Q2_\"+str(Q2)+\"__xpom_0.0030;1\"\n",
    "maral1=f1.Get(address)\n",
    "maral2=f2.Get(address)\n",
    "#maral2.ls()\n",
    "maral12=maral1.Get(\"DPDF_ErrorsSymm;1/\")\n",
    "maral22=maral2.Get(\"DPDF_ErrorsSymm;1/\")\n",
    "NLO_sigma=maral12.Get(\"SIGMA;1\")\n",
    "NLO_gluon=maral12.Get(\"gluon;1\")\n",
    "NNLO_sigma=maral22.Get(\"SIGMA;1\")\n",
    "NNLO_gluon=maral22.Get(\"gluon;1\")"
   ]
  },
  {
   "cell_type": "code",
   "execution_count": 1,
   "id": "f9328df3",
   "metadata": {
    "scrolled": true
   },
   "outputs": [],
   "source": [
    "## taken from:https://higgshunter.wordpress.com/2013/04/18/error-band-graph-in-pyroot/\n",
    "## Edited by : HH :)\n",
    "## some deprecated methods changed, added return\n",
    "import ctypes ## HH: this is needed for ctypes variable type, ROOT.Double is obsolete!\n",
    "def DrawErrorBand(graph):\n",
    "    isErrorBand = graph.GetErrorYhigh(0) != -1 and graph.GetErrorYlow(0) != -1\n",
    "    npoints     = graph.GetN()\n",
    "\n",
    "    if not isErrorBand:\n",
    "        graph.Draw(\"l\")\n",
    "        return\n",
    "\n",
    "    # Declare individual TGraph objects used in drawing error band\n",
    "    central, min, max = ROOT.TGraph(), ROOT.TGraph(), ROOT.TGraph()\n",
    "    shapes = []\n",
    "    for i in range((npoints-1)*4):\n",
    "        shapes.append(ROOT.TGraph())\n",
    "\n",
    "    # Set ownership of TGraph objects\n",
    "    ROOT.SetOwnership(central, False)\n",
    "    ROOT.SetOwnership(    min, False)\n",
    "    ROOT.SetOwnership(    max, False)\n",
    "    for shape in shapes:\n",
    "        ROOT.SetOwnership(shape, False)\n",
    "\n",
    "    # Get data points from TGraphAsymmErrors\n",
    "    x, y, ymin, ymax = [], [], [], []\n",
    "    xs, ys=[],[] ### HH\n",
    "    for i in range(npoints):\n",
    "        tmpX, tmpY =ctypes.c_double(0.), ctypes.c_double(0.) ## HH: using \"ROOT.Double\" will raise error\n",
    "        graph.GetPoint(i, tmpX, tmpY)\n",
    "        x.append(tmpX)\n",
    "        y.append(tmpY)\n",
    "        ymin.append(tmpY.value - graph.GetErrorYlow(i)) ## HH\n",
    "        ymax.append(tmpY.value + graph.GetErrorYhigh(i)) ## HH\n",
    "        #xs.append(tmpX.value) ## HH\n",
    "        #ys.append(tmpY.value) ## HH\n",
    "    xs = np.array([item.value for item in x]) ## HH\n",
    "    ys = np.array([item.value for item in y]) ## HH\n",
    "    ymins = np.array(ymin) ## HH\n",
    "    ymaxs = np.array(ymax) ## HH\n",
    "    # Fill central, min and max graphs\n",
    "    for i in range(npoints):\n",
    "        central.SetPoint(i, x[i], y[i])\n",
    "        min.SetPoint(i, x[i], ymin[i])\n",
    "        max.SetPoint(i, x[i], ymax[i])\n",
    "\n",
    "    # Fill shapes which will be shaded to create the error band\n",
    "    for i in range(npoints-1):\n",
    "        for version in range(4):\n",
    "            shapes[i+(npoints-1)*version].SetPoint((version+0)%4, x[i],   ymax[i])\n",
    "            shapes[i+(npoints-1)*version].SetPoint((version+1)%4, x[i+1], ymax[i+1])\n",
    "            shapes[i+(npoints-1)*version].SetPoint((version+2)%4, x[i+1], ymin[i+1])\n",
    "            shapes[i+(npoints-1)*version].SetPoint((version+3)%4, x[i],   ymin[i])\n",
    "\n",
    "    # Set attributes to those of input graph\n",
    "    central.SetLineColor(graph.GetLineColor())\n",
    "    central.SetLineStyle(graph.GetLineStyle())\n",
    "    central.SetLineWidth(graph.GetLineWidth())\n",
    "    min.SetLineColor(graph.GetLineColor())\n",
    "    min.SetLineStyle(graph.GetLineStyle())\n",
    "    max.SetLineColor(graph.GetLineColor())\n",
    "    max.SetLineStyle(graph.GetLineStyle())\n",
    "    for shape in shapes:\n",
    "        shape.SetFillColor(graph.GetFillColor())\n",
    "        shape.SetFillStyle(graph.GetFillStyle())\n",
    "\n",
    "    # Draw\n",
    "    for shape in shapes:\n",
    "        shape.Draw(\"f\")\n",
    "    min.Draw(\"l\")\n",
    "    max.Draw(\"l\")\n",
    "    central.Draw(\"l\")\n",
    "    ROOT.gPad.RedrawAxis()\n",
    "    res=[xs,ys,ymins,ymaxs] ## HH\n",
    "    return res #HH"
   ]
  },
  {
   "cell_type": "code",
   "execution_count": 3,
   "id": "880ff585",
   "metadata": {
    "scrolled": true
   },
   "outputs": [
    {
     "ename": "NameError",
     "evalue": "name 'NLO_sigma' is not defined",
     "output_type": "error",
     "traceback": [
      "\u001b[0;31m---------------------------------------------------------------------------\u001b[0m",
      "\u001b[0;31mNameError\u001b[0m                                 Traceback (most recent call last)",
      "Cell \u001b[0;32mIn[3], line 2\u001b[0m\n\u001b[1;32m      1\u001b[0m \u001b[38;5;66;03m###### Singlet\u001b[39;00m\n\u001b[0;32m----> 2\u001b[0m xv,yv,ymin,ymax \u001b[38;5;241m=\u001b[39mDrawErrorBand(\u001b[43mNLO_sigma\u001b[49m)\n\u001b[1;32m      3\u001b[0m yv\u001b[38;5;241m=\u001b[39myv\u001b[38;5;241m*\u001b[39m\u001b[38;5;241m0.003\u001b[39m\n\u001b[1;32m      4\u001b[0m ymin\u001b[38;5;241m=\u001b[39mymin\u001b[38;5;241m*\u001b[39m\u001b[38;5;241m0.003\u001b[39m\n",
      "\u001b[0;31mNameError\u001b[0m: name 'NLO_sigma' is not defined"
     ]
    }
   ],
   "source": [
    "###### Singlet\n",
    "xv,yv,ymin,ymax =DrawErrorBand(NLO_sigma)\n",
    "yv=yv*0.003\n",
    "ymin=ymin*0.003\n",
    "ymax=ymax*0.003\n",
    "yv_NLO=yv\n",
    "#################################################\n",
    "f, (ax1, ax2) = plt.subplots(2, 1, sharex = \"all\", gridspec_kw = dict(width_ratios = [1], height_ratios = [3, 1]),figsize=(9, 9))\n",
    "plt.subplots_adjust(wspace = 0, hspace = 0)\n",
    "ax1.set_title(r\"\\textbf{SKMHS23}\", y=1.0,x=0.27, pad=-30, fontsize=20)\n",
    "ax1.set_ylabel(r\"\\textbf{$\\beta \\Sigma (\\beta,Q^2)$}\")\n",
    "#ax1.set_xscale(\"log\")\n",
    "ax2.set_ylabel(r\"\\textbf{Ratio to NLO}\", fontsize = 15)\n",
    "#ax2.set_xscale(\"log\")\n",
    "ax2.set_xlabel(r\"\\textbf{$\\beta$}\")\n",
    "ax1.set_ylim([0.,np.amax(ymax)*1.1])\n",
    "ax2.set_xlim([1e-3, 1e0])\n",
    "ax2.set_ylim([0.85, 1.25])\n",
    "###################################################################################################################################\n",
    "color= 'r'\n",
    "markerth=''\n",
    "hatch='//'\n",
    "plt.rcParams['hatch.linewidth'] = 2.0  # previous pdf hatch linewidth\n",
    "thlinestyle,linewidth='-',2.0\n",
    "center_NLO=ax1.plot(xv, yv, color = color, lw = linewidth, marker=markerth)\n",
    "alpha=1\n",
    "bandcolor=\"none\"\n",
    "edgecolor='b'\n",
    "#ax1.axhline(0, color='black', lw=linewidth, linestyle='dotted')\n",
    "errband=ax1.fill_between(xv, np.array(ymax), np.array(ymin), color = bandcolor, alpha = alpha,hatch=hatch ,edgecolor=edgecolor,zorder=10)\n",
    "p_NLO = ax1.fill(np.NaN, np.NaN, color = bandcolor, alpha = alpha,edgecolor=edgecolor,hatch=hatch)#### for combined legend only\n",
    "ax2.plot(xv, np.array(yv)/np.array(yv_NLO), color = color, ls = thlinestyle, lw = linewidth, marker=markerth)\n",
    "ax2.fill_between(xv, np.array(ymax)/np.array(yv_NLO), np.array(ymin)/np.array(yv_NLO), color = bandcolor, alpha = alpha,hatch=hatch ,edgecolor=edgecolor,zorder=10)\n",
    "###################################################################################################################################\n",
    "xv,yv,ymin,ymax =DrawErrorBand(NNLO_sigma)\n",
    "yv=yv*0.003\n",
    "ymin=ymin*0.003\n",
    "ymax=ymax*0.003\n",
    "############################################\n",
    "color= 'g'\n",
    "markerth=''\n",
    "thlinestyle,linewidth='-',2.0\n",
    "center_NNLO=ax1.plot(xv, yv, color = color, lw = linewidth, marker=markerth)\n",
    "alpha=1\n",
    "bandcolor='#ffff33'\n",
    "edgecolor='g'\n",
    "#ax1.axhline(0, color='black', lw=linewidth, linestyle='dotted')\n",
    "errband=ax1.fill_between(xv, np.array(ymax), np.array(ymin), color = bandcolor, alpha = alpha,edgecolor=edgecolor)\n",
    "p_NNLO = ax1.fill(np.NaN, np.NaN, color = bandcolor, alpha = alpha,edgecolor=edgecolor)# color=bandcolor, alpha=alpha)#### for combined legend only\n",
    "ax2.plot(xv, np.array(yv)/np.array(yv_NLO), color = color, ls = thlinestyle, lw = linewidth, marker=markerth)\n",
    "ax2.fill_between(xv, np.array(ymax)/np.array(yv_NLO), np.array(ymin)/np.array(yv_NLO), color = bandcolor, alpha = alpha,edgecolor=edgecolor)\n",
    "###################################################################################################################################\n",
    "plt.rcParams['legend.title_fontsize'] = 'small'\n",
    "ax1.legend([(p_NLO[0], center_NLO[0]),(p_NNLO[0],center_NNLO[0]) ], [r'\\textbf{NLO}',r\"\\textbf{NNLO}\"]\\\n",
    "        ,loc='best', title=  r\"$\\quad$  $Q^2 =$ \"+ r\"$\\textbf{\" + str(Q2) + \"}$\" +r\" $ \\textbf{GeV}^2$\",fontsize=20)\n",
    "#plt.show()\n",
    "plt.savefig( \"./Distribution-Plot/\" +'no_dijet'+'_'+'sigma-'+str(Q2) + \".pdf\")\n",
    "plt.show()\n",
    "plt.close()"
   ]
  },
  {
   "cell_type": "code",
   "execution_count": 4,
   "id": "5d1c95a0",
   "metadata": {
    "scrolled": true
   },
   "outputs": [
    {
     "ename": "NameError",
     "evalue": "name 'NLO_gluon' is not defined",
     "output_type": "error",
     "traceback": [
      "\u001b[0;31m---------------------------------------------------------------------------\u001b[0m",
      "\u001b[0;31mNameError\u001b[0m                                 Traceback (most recent call last)",
      "Cell \u001b[0;32mIn[4], line 2\u001b[0m\n\u001b[1;32m      1\u001b[0m \u001b[38;5;66;03m###### Gluon\u001b[39;00m\n\u001b[0;32m----> 2\u001b[0m xv,yv,ymin,ymax \u001b[38;5;241m=\u001b[39mDrawErrorBand(\u001b[43mNLO_gluon\u001b[49m)\n\u001b[1;32m      3\u001b[0m yv\u001b[38;5;241m=\u001b[39myv\u001b[38;5;241m*\u001b[39m\u001b[38;5;241m0.003\u001b[39m\n\u001b[1;32m      4\u001b[0m ymin\u001b[38;5;241m=\u001b[39mymin\u001b[38;5;241m*\u001b[39m\u001b[38;5;241m0.003\u001b[39m\n",
      "\u001b[0;31mNameError\u001b[0m: name 'NLO_gluon' is not defined"
     ]
    }
   ],
   "source": [
    "###### Gluon\n",
    "xv,yv,ymin,ymax =DrawErrorBand(NLO_gluon)\n",
    "yv=yv*0.003\n",
    "ymin=ymin*0.003\n",
    "ymax=ymax*0.003\n",
    "yv_NLO=yv\n",
    "#################################################\n",
    "f, (ax1, ax2) = plt.subplots(2, 1, sharex = \"all\", gridspec_kw = dict(width_ratios = [1], height_ratios = [3, 1]),figsize=(9, 9))\n",
    "plt.subplots_adjust(wspace = 0, hspace = 0)\n",
    "ax1.set_title(r\"\\textbf{SKMHS23}\", y=1.0,x=0.75, pad=-30, fontsize=20)\n",
    "ax1.set_ylabel(r\"\\textbf{$\\beta g (\\beta,Q^2)$}\")\n",
    "#ax1.set_xscale(\"log\")\n",
    "ax2.set_ylabel(r\"\\textbf{Ratio to NLO}\", fontsize = 15)\n",
    "#ax2.set_xscale(\"log\")\n",
    "ax2.set_xlabel(r\"\\textbf{$\\beta$}\")\n",
    "ax1.set_ylim([0.,np.amax(ymax)*1.1])\n",
    "ax2.set_xlim([1e-3, 1e0])\n",
    "ax2.set_ylim([0.45, 1.45])\n",
    "###################################################################################################################################\n",
    "color= 'r'\n",
    "markerth=''\n",
    "hatch='//'\n",
    "plt.rcParams['hatch.linewidth'] = 2.0  # previous pdf hatch linewidth\n",
    "thlinestyle,linewidth='-',2.0\n",
    "center_NLO=ax1.plot(xv, yv, color = color, lw = linewidth, marker=markerth)\n",
    "alpha=1\n",
    "bandcolor=\"none\"\n",
    "edgecolor='b'\n",
    "#ax1.axhline(0, color='black', lw=linewidth, linestyle='dotted')\n",
    "errband=ax1.fill_between(xv, np.array(ymax), np.array(ymin), color = bandcolor, alpha = alpha,hatch=hatch ,edgecolor=edgecolor,zorder=10)\n",
    "p_NLO = ax1.fill(np.NaN, np.NaN, color = bandcolor, alpha = alpha,edgecolor=edgecolor,hatch=hatch)#### for combined legend only\n",
    "ax2.plot(xv, np.array(yv)/np.array(yv_NLO), color = color, ls = thlinestyle, lw = linewidth, marker=markerth)\n",
    "ax2.fill_between(xv, np.array(ymax)/np.array(yv_NLO), np.array(ymin)/np.array(yv_NLO), color = bandcolor, alpha = alpha,hatch=hatch ,edgecolor=edgecolor,zorder=10)\n",
    "###################################################################################################################################\n",
    "xv,yv,ymin,ymax =DrawErrorBand(NNLO_gluon)\n",
    "yv=yv*0.003\n",
    "ymin=ymin*0.003\n",
    "ymax=ymax*0.003\n",
    "############################################\n",
    "color= 'g'\n",
    "markerth=''\n",
    "thlinestyle,linewidth='-',2.0\n",
    "center_NNLO=ax1.plot(xv, yv, color = color, lw = linewidth, marker=markerth)\n",
    "alpha=1\n",
    "bandcolor='#ffff33'\n",
    "edgecolor='g'\n",
    "#ax1.axhline(0, color='black', lw=linewidth, linestyle='dotted')\n",
    "errband=ax1.fill_between(xv, np.array(ymax), np.array(ymin), color = bandcolor, alpha = alpha,edgecolor=edgecolor)\n",
    "p_NNLO = ax1.fill(np.NaN, np.NaN, color = bandcolor, alpha = alpha,edgecolor=edgecolor)# color=bandcolor, alpha=alpha)#### for combined legend only\n",
    "ax2.plot(xv, np.array(yv)/np.array(yv_NLO), color = color, ls = thlinestyle, lw = linewidth, marker=markerth)\n",
    "ax2.fill_between(xv, np.array(ymax)/np.array(yv_NLO), np.array(ymin)/np.array(yv_NLO), color = bandcolor, alpha = alpha,edgecolor=edgecolor)\n",
    "###################################################################################################################################\n",
    "ax1.legend([(p_NLO[0], center_NLO[0]),(p_NNLO[0],center_NNLO[0]) ], [r'\\textbf{NLO}',r\"\\textbf{NNLO}\"]\\\n",
    "           ,loc='upper left',title=r\"$Q^2 =$ \"+ r\"$\\textbf{\" + str(Q2) + \"}$\" +r\" $ \\textbf{GeV}^2$\",fontsize=20)\n",
    "plt.savefig( \"./Distribution-Plot/\" +'no_dijet'+'_'+'gluon-'+str(Q2) + \".pdf\")\n",
    "plt.show()\n",
    "plt.close()"
   ]
  },
  {
   "cell_type": "code",
   "execution_count": null,
   "id": "c8af0da3",
   "metadata": {
    "scrolled": false
   },
   "outputs": [],
   "source": []
  }
 ],
 "metadata": {
  "kernelspec": {
   "display_name": "Python 3 (ipykernel)",
   "language": "python",
   "name": "python3"
  },
  "language_info": {
   "codemirror_mode": {
    "name": "ipython",
    "version": 3
   },
   "file_extension": ".py",
   "mimetype": "text/x-python",
   "name": "python",
   "nbconvert_exporter": "python",
   "pygments_lexer": "ipython3",
   "version": "3.10.6"
  }
 },
 "nbformat": 4,
 "nbformat_minor": 5
}
